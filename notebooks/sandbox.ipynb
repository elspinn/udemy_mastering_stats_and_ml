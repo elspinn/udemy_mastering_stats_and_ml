{
 "cells": [
  {
   "cell_type": "code",
   "id": "75b222d8-b868-4a85-99ad-d770c15a295b",
   "metadata": {
    "ExecuteTime": {
     "end_time": "2025-03-06T10:40:31.143613Z",
     "start_time": "2025-03-06T10:40:29.329021Z"
    }
   },
   "source": [
    "import matplotlib.pyplot as plt\n",
    "import numpy as np\n",
    "import scipy.stats as stats"
   ],
   "outputs": [],
   "execution_count": 1
  },
  {
   "cell_type": "code",
   "id": "8d3befb0-56a1-4f5c-b511-46563ee0c2d5",
   "metadata": {
    "ExecuteTime": {
     "end_time": "2025-03-06T11:00:55.624809Z",
     "start_time": "2025-03-06T11:00:55.620278Z"
    }
   },
   "source": "data = np.arange(0, 100)",
   "outputs": [],
   "execution_count": 17
  },
  {
   "metadata": {
    "ExecuteTime": {
     "end_time": "2025-03-06T14:47:49.434983Z",
     "start_time": "2025-03-06T14:47:49.427286Z"
    }
   },
   "cell_type": "code",
   "source": "pow(-3, 2)",
   "id": "8e0e256a9a16381a",
   "outputs": [
    {
     "data": {
      "text/plain": [
       "9"
      ]
     },
     "execution_count": 29,
     "metadata": {},
     "output_type": "execute_result"
    }
   ],
   "execution_count": 29
  }
 ],
 "metadata": {
  "kernelspec": {
   "display_name": "Python 3 (ipykernel)",
   "language": "python",
   "name": "python3"
  },
  "language_info": {
   "codemirror_mode": {
    "name": "ipython",
    "version": 3
   },
   "file_extension": ".py",
   "mimetype": "text/x-python",
   "name": "python",
   "nbconvert_exporter": "python",
   "pygments_lexer": "ipython3",
   "version": "3.12.9"
  }
 },
 "nbformat": 4,
 "nbformat_minor": 5
}
